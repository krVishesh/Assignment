{
 "metadata": {
  "language_info": {
   "codemirror_mode": {
    "name": "ipython",
    "version": 3
   },
   "file_extension": ".py",
   "mimetype": "text/x-python",
   "name": "python",
   "nbconvert_exporter": "python",
   "pygments_lexer": "ipython3",
   "version": "3.8.3"
  },
  "orig_nbformat": 2,
  "kernelspec": {
   "name": "python383jvsc74a57bd0a1de3a1d3c2089039fa6be103502fc387dfe94ef44910a8a9b49e49650d75ddf",
   "display_name": "Python 3.8.3 32-bit"
  }
 },
 "nbformat": 4,
 "nbformat_minor": 2,
 "cells": [
  {
   "source": [
    "'''\n",
    "Fuction to calculate the factorial of the entered value\n",
    "'''\n",
    "def fact(n):      #function for calculation of factorial\n",
    "    m=1\n",
    "    for i in range(2,n+1):\n",
    "        m=m*i\n",
    "    return m\n",
    "\n",
    "#Main method\n",
    "try:\n",
    "    n=int(input('Entry Station: '))\n",
    "    if (n>=0):\n",
    "        print('Factorial of',n,':',fact(n))\n",
    "    else:       #In case, the entry is done with any negative value\n",
    "        print('Factorial of negative number is not defined yet')\n",
    "except ValueError:\n",
    "    print('Entered value is not a integer type')\n",
    "except:\n",
    "    print('Something went wrong!')"
   ],
   "cell_type": "code",
   "metadata": {},
   "execution_count": 35,
   "outputs": [
    {
     "output_type": "stream",
     "name": "stdout",
     "text": [
      "Entered value is not a integer type\n"
     ]
    }
   ]
  },
  {
   "cell_type": "code",
   "execution_count": 25,
   "metadata": {},
   "outputs": [
    {
     "output_type": "stream",
     "name": "stdout",
     "text": [
      "Entered value is not integer type\n"
     ]
    }
   ],
   "source": [
    "'''\n",
    "Fuction to calculate a^b ,while both a and b is integer\n",
    "'''\n",
    "def exp(a,b):       #fuction to calculate a^b\n",
    "    return a**b\n",
    "\n",
    "#Main method\n",
    "try:\n",
    "    a=int(input('Entry of A: '))\n",
    "    b=int(input('Entry of B: '))\n",
    "    print('A raised to B:',exp(a,b))\n",
    "except ValueError:\n",
    "    print('Entered value is not integer type')\n",
    "except:\n",
    "    print('Something went wrong!')"
   ]
  },
  {
   "cell_type": "code",
   "execution_count": 10,
   "metadata": {},
   "outputs": [
    {
     "output_type": "stream",
     "name": "stdout",
     "text": [
      "Check whether a number is prime or not\n",
      "Entered value is less than 2\n",
      "\n",
      "Print all the prime numbers between 2 to n\n",
      "Printing all the prime numbers between 2 to  8\n",
      "2\n",
      "3\n",
      "5\n",
      "7\n"
     ]
    }
   ],
   "source": [
    "'''\n",
    "Program with 2 operations (Both are executing in the program, Not option based)i.e. \n",
    "(i)Check whether the entered Value is prime number or not\n",
    "(ii)Print all the prime number between 2 to n\n",
    "'''\n",
    "def prime(n):           #function to check Prime\n",
    "    for i in range(2,n+1):\n",
    "        if(n%i==0):\n",
    "            break\n",
    "    if(i==n):\n",
    "        return 'Prime Number'\n",
    "    else:\n",
    "        return 'Not a Prime Number'\n",
    "\n",
    "#Main Method\n",
    "\n",
    "#code to check the number is prime or not\n",
    "print('Check whether a number is prime or not')\n",
    "try:\n",
    "    n=int(input('Entry Station for checking :'))\n",
    "    if(n<2):\n",
    "        raise TypeError\n",
    "    print('Entered value',n,'is',prime(n))\n",
    "except ValueError:\n",
    "    print('Entered value is not integer type')\n",
    "except TypeError:\n",
    "    print('Entered value is less than 2')\n",
    "except:\n",
    "    print('Something went wrong!')\n",
    "\n",
    "#code to print all prime numbers between 2 to n\n",
    "print('\\nPrint all the prime numbers between 2 to n')\n",
    "try:\n",
    "    n=int(input('Entry Station :'))\n",
    "    print('Printing all the prime numbers between 2 to ',n)\n",
    "    for i in range(2,n+1):\n",
    "        if(prime(i)=='Prime Number'):\n",
    "            print(i)\n",
    "except ValueError:\n",
    "    print('Entered value is not integer type')\n",
    "except:\n",
    "    print('Something went wrong!')"
   ]
  },
  {
   "cell_type": "code",
   "execution_count": 9,
   "metadata": {},
   "outputs": [
    {
     "output_type": "stream",
     "name": "stdout",
     "text": [
      "Entered value is not integer type or not in acceptable value range\n"
     ]
    }
   ],
   "source": [
    "'''\n",
    "Program to use function to print the sum of first n natural numbers\n",
    "'''\n",
    "def sum(n):         #Does the sum of first n natural numbers\n",
    "    sum=0\n",
    "    for i in range(n+1):\n",
    "        sum+=i\n",
    "    return sum\n",
    "\n",
    "#Main Method\n",
    "try:\n",
    "    n=int(input('Entry Station : '))\n",
    "    if(n<1):        #for numbers which is not defined as natural numbers\n",
    "        raise ValueError\n",
    "    print('Sum of first',n,'natural numbers :',sum(n))\n",
    "except ValueError:\n",
    "    print('Entered value is not integer type or not in acceptable value range')\n",
    "except:\n",
    "    print('Something went wrong!')"
   ]
  },
  {
   "cell_type": "code",
   "execution_count": 15,
   "metadata": {},
   "outputs": [
    {
     "output_type": "stream",
     "name": "stdout",
     "text": [
      "The sum of all the elements in list : 0\n"
     ]
    }
   ],
   "source": [
    "'''\n",
    "Program to take list of numbers and print the sum \n",
    "'''\n",
    "def sum_list(l):        #function to calculate the sum of elements\n",
    "    sum=0\n",
    "    for i in l:\n",
    "        sum+=i\n",
    "    return sum\n",
    "\n",
    "#Main Method\n",
    "try:\n",
    "    n=int(input('Enter the size of list : '))\n",
    "    if(n<0):        #In case if list size is given any negative value\n",
    "        raise ValueError\n",
    "    l=[]\n",
    "    for i in range(n):\n",
    "        num=int(input('Entry Station for list :'))\n",
    "        l.append(num)\n",
    "    print('The sum of all the elements in list :',sum_list(l))\n",
    "except ValueError:\n",
    "    print('None integer type or negative value is entered')\n",
    "except:\n",
    "    print('Something went wrong!')"
   ]
  },
  {
   "cell_type": "code",
   "execution_count": 26,
   "metadata": {},
   "outputs": [
    {
     "output_type": "stream",
     "name": "stdout",
     "text": [
      "All the even elements in list : [6, 6, 6, 6, 6]\n"
     ]
    }
   ],
   "source": [
    "'''\n",
    "Program to take list of numbers and print all the even numbers \n",
    "'''\n",
    "def even_in_list(l):        #function to print all the even elements\n",
    "    e=[]\n",
    "    for i in l:\n",
    "        if(i%2==0):\n",
    "            e.append(i)\n",
    "    return sorted(e)\n",
    "\n",
    "#Main Method\n",
    "try:\n",
    "    n=int(input('Enter the size of list : '))\n",
    "    if(n<0):        #In case if list size is given any negative value\n",
    "        raise ValueError\n",
    "    l=[]\n",
    "    for i in range(n):\n",
    "        num=int(input('Entry Station for list :'))\n",
    "        l.append(num)\n",
    "    print('All the even elements in list :',even_in_list(l))\n",
    "except ValueError:\n",
    "    print('None integer type or negative value is entered')\n",
    "except:\n",
    "    print('Something went wrong!')"
   ]
  },
  {
   "cell_type": "code",
   "execution_count": 27,
   "metadata": {},
   "outputs": [
    {
     "output_type": "stream",
     "name": "stdout",
     "text": [
      "Modified list : [5, 4, 8, 6, 15]\n"
     ]
    }
   ],
   "source": [
    "'''\n",
    "Program to take list of numbers and multiply all the odd elements by 5\n",
    "'''\n",
    "def mult(l):        #function to multiply all the odd elements by 5\n",
    "    e=[]\n",
    "    for i in range(0,len(l)):\n",
    "        if(l[i]%2!=0):\n",
    "            l[i]=l[i]*5\n",
    "        e.append(l[i])\n",
    "    return e\n",
    "\n",
    "#Main Method\n",
    "try:\n",
    "    n=int(input('Enter the size of list : '))\n",
    "    if(n<0):        #In case if list size is given any negative value\n",
    "        raise ValueError\n",
    "    l=[]\n",
    "    for i in range(n):\n",
    "        num=int(input('Entry Station for list :'))\n",
    "        l.append(num)\n",
    "    print('Modified list :',mult(l))\n",
    "except ValueError:\n",
    "    print('None integer type or negative value is entered')\n",
    "except:\n",
    "    print('Something went wrong!')"
   ]
  },
  {
   "cell_type": "code",
   "execution_count": 43,
   "metadata": {},
   "outputs": [
    {
     "output_type": "stream",
     "name": "stdout",
     "text": [
      "-370 is not a Armstrong Number\n"
     ]
    }
   ],
   "source": [
    "'''\n",
    "Program to check whether a number is Armstrong or not\n",
    "'''\n",
    "def Armstrong(n):       #Function to get the sum of digits raised to the number of digits\n",
    "    temp=n\n",
    "    arm_no=0\n",
    "    ct=0\n",
    "    a=0\n",
    "    while(temp>0):\n",
    "        temp=temp//10\n",
    "        ct+=1\n",
    "    while(n>0):\n",
    "        a=n%10\n",
    "        n=n//10\n",
    "        arm_no=arm_no+(a**ct)\n",
    "    return arm_no\n",
    "\n",
    "#Main Method\n",
    "try:\n",
    "    n=int(input('Entry Station :'))\n",
    "    if(n==Armstrong(n)):\n",
    "        print(n,'is a Armstrong Number')\n",
    "    else:\n",
    "        print(n,'is not a Armstrong Number')\n",
    "except ValueError:\n",
    "    print('Entered value is not valid')\n",
    "except:\n",
    "    print('Something went wrong!')"
   ]
  },
  {
   "cell_type": "code",
   "execution_count": null,
   "metadata": {},
   "outputs": [],
   "source": []
  }
 ]
}