{
 "metadata": {
  "language_info": {
   "codemirror_mode": {
    "name": "ipython",
    "version": 3
   },
   "file_extension": ".py",
   "mimetype": "text/x-python",
   "name": "python",
   "nbconvert_exporter": "python",
   "pygments_lexer": "ipython3",
   "version": "3.8.3"
  },
  "orig_nbformat": 2,
  "kernelspec": {
   "name": "python383jvsc74a57bd0a1de3a1d3c2089039fa6be103502fc387dfe94ef44910a8a9b49e49650d75ddf",
   "display_name": "Python 3.8.3 32-bit"
  }
 },
 "nbformat": 4,
 "nbformat_minor": 2,
 "cells": [
  {
   "cell_type": "code",
   "execution_count": 40,
   "metadata": {},
   "outputs": [
    {
     "output_type": "stream",
     "name": "stdout",
     "text": [
      "prime\n"
     ]
    }
   ],
   "source": [
    "n=int(input(\"enter\"))\n",
    "for i in range(2,n+1):\n",
    "    if(n%i==0):\n",
    "        break\n",
    "if(i==n):\n",
    "    print('prime')\n",
    "else:\n",
    "    print('not')"
   ]
  },
  {
   "cell_type": "code",
   "execution_count": 41,
   "metadata": {},
   "outputs": [
    {
     "output_type": "stream",
     "name": "stdout",
     "text": [
      "prime\n"
     ]
    }
   ],
   "source": [
    "n=int(input(\"enter\"))\n",
    "ct=0\n",
    "for i in range(1,n+1):\n",
    "    if(n%i==0):\n",
    "        ct+=1\n",
    "if(ct==2):\n",
    "    print('prime')\n",
    "else:\n",
    "    print('not')"
   ]
  },
  {
   "cell_type": "code",
   "execution_count": null,
   "metadata": {},
   "outputs": [],
   "source": []
  }
 ]
}